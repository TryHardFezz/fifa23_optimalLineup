{
 "cells": [
  {
   "cell_type": "code",
   "execution_count": 6,
   "metadata": {},
   "outputs": [],
   "source": [
    "from pulp import *\n",
    "import pandas as pd"
   ]
  },
  {
   "cell_type": "code",
   "execution_count": 8,
   "metadata": {},
   "outputs": [],
   "source": [
    "#### little example\n",
    "data = {\n",
    "    'name': ['A', 'B', 'C', 'D'],\n",
    "    'position': ['ST', 'ST', 'DF', 'DF'], \n",
    "    'overall': [90, 91, 94, 96], \n",
    "    'wage': [100, 150, 100, 200]\n",
    "}\n"
   ]
  },
  {
   "cell_type": "code",
   "execution_count": 15,
   "metadata": {},
   "outputs": [
    {
     "name": "stdout",
     "output_type": "stream",
     "text": [
      "Objective Function Value =  187\n",
      "x_0 =  0\n",
      "x_1 =  1\n",
      "x_2 =  0\n",
      "x_3 =  1\n"
     ]
    }
   ],
   "source": [
    "from pulp import *\n",
    "import pandas as pd\n",
    "\n",
    "# Create a LP Maximize problem\n",
    "prob = LpProblem(\"Binary Integer Programming Problem\", LpMaximize)\n",
    "\n",
    "# Read the dataframe\n",
    "df = pd.DataFrame(data)\n",
    "\n",
    "# Define the decision variables\n",
    "x = {i: LpVariable(f\"x_{i}\", 0, 1, LpInteger) for i in df.index}\n",
    "\n",
    "# Define the objective function\n",
    "prob += lpSum([df.loc[i, 'overall']*x[i] for i in df.index]), \"Objective Function\"\n",
    "\n",
    "# Define the constraints\n",
    "prob += lpSum([x[i] for i in df[df[\"position\"]==\"ST\"].index]) <= 1\n",
    "prob += lpSum([x[i] for i in df[df[\"position\"]==\"DF\"].index]) <= 1\n",
    "prob += lpSum([df.loc[i, 'wage']*x[i] for i in df.index]) <= 500\n",
    "\n",
    "# Solve the problem\n",
    "status = prob.solve()\n",
    "\n",
    "# Print the results\n",
    "print(\"Objective Function Value = \", value(prob.objective))\n",
    "for i in df.index:\n",
    "    print(f\"x_{i} = \", value(x[i]))\n"
   ]
  }
 ],
 "metadata": {
  "kernelspec": {
   "display_name": "base",
   "language": "python",
   "name": "python3"
  },
  "language_info": {
   "codemirror_mode": {
    "name": "ipython",
    "version": 3
   },
   "file_extension": ".py",
   "mimetype": "text/x-python",
   "name": "python",
   "nbconvert_exporter": "python",
   "pygments_lexer": "ipython3",
   "version": "3.9.13"
  },
  "orig_nbformat": 4,
  "vscode": {
   "interpreter": {
    "hash": "6055037c83ed8c537cd4c99bf142ae9deea8dde7b5b73fca01ac35c8e4f4c40e"
   }
  }
 },
 "nbformat": 4,
 "nbformat_minor": 2
}
